{
  "nbformat": 4,
  "nbformat_minor": 0,
  "metadata": {
    "colab": {
      "name": "bing_image_search.ipynb",
      "provenance": [],
      "toc_visible": true
    },
    "kernelspec": {
      "name": "python3",
      "display_name": "Python 3"
    }
  },
  "cells": [
    {
      "cell_type": "markdown",
      "metadata": {
        "id": "VAj899sgXqx3"
      },
      "source": [
        "bing image serach api를 사용하여 이미지를 다운로드 받은 후 구글 드라이브에 저장"
      ]
    },
    {
      "cell_type": "code",
      "metadata": {
        "colab": {
          "base_uri": "https://localhost:8080/"
        },
        "id": "mtvbMcgRXcyU",
        "outputId": "012af695-a050-4933-e98e-6177c6411afa"
      },
      "source": [
        "#fastai library\r\n",
        "!pip install -Uqq fastbook\r\n",
        "import fastbook\r\n",
        "fastbook.setup_book()"
      ],
      "execution_count": 1,
      "outputs": [
        {
          "output_type": "stream",
          "text": [
            "\u001b[K     |████████████████████████████████| 727kB 475kB/s \n",
            "\u001b[K     |████████████████████████████████| 194kB 12.1MB/s \n",
            "\u001b[K     |████████████████████████████████| 1.2MB 11.1MB/s \n",
            "\u001b[K     |████████████████████████████████| 51kB 5.7MB/s \n",
            "\u001b[K     |████████████████████████████████| 61kB 7.7MB/s \n",
            "\u001b[?25hMounted at /content/gdrive\n"
          ],
          "name": "stdout"
        }
      ]
    },
    {
      "cell_type": "code",
      "metadata": {
        "id": "bHPwhyjbXeFF"
      },
      "source": [
        "from fastbook import *\r\n",
        "from fastai.vision.widgets import *\r\n",
        "from fastai.vision.all import *"
      ],
      "execution_count": 5,
      "outputs": []
    },
    {
      "cell_type": "code",
      "metadata": {
        "colab": {
          "base_uri": "https://localhost:8080/"
        },
        "id": "KBnAGCjhXhoK",
        "outputId": "f153140f-e53a-44a2-f074-0e4d4b940ba7"
      },
      "source": [
        "!pip install azure-cognitiveservices-search-imagesearch\r\n",
        "from utils import *"
      ],
      "execution_count": 10,
      "outputs": [
        {
          "output_type": "stream",
          "text": [
            "Requirement already satisfied: azure-cognitiveservices-search-imagesearch in /usr/local/lib/python3.6/dist-packages (2.0.0)\n",
            "Requirement already satisfied: msrest>=0.5.0 in /usr/local/lib/python3.6/dist-packages (from azure-cognitiveservices-search-imagesearch) (0.6.21)\n",
            "Requirement already satisfied: msrestazure<2.0.0,>=0.4.32 in /usr/local/lib/python3.6/dist-packages (from azure-cognitiveservices-search-imagesearch) (0.6.4)\n",
            "Requirement already satisfied: azure-common~=1.1 in /usr/local/lib/python3.6/dist-packages (from azure-cognitiveservices-search-imagesearch) (1.1.26)\n",
            "Requirement already satisfied: requests~=2.16 in /usr/local/lib/python3.6/dist-packages (from msrest>=0.5.0->azure-cognitiveservices-search-imagesearch) (2.23.0)\n",
            "Requirement already satisfied: certifi>=2017.4.17 in /usr/local/lib/python3.6/dist-packages (from msrest>=0.5.0->azure-cognitiveservices-search-imagesearch) (2020.12.5)\n",
            "Requirement already satisfied: isodate>=0.6.0 in /usr/local/lib/python3.6/dist-packages (from msrest>=0.5.0->azure-cognitiveservices-search-imagesearch) (0.6.0)\n",
            "Requirement already satisfied: requests-oauthlib>=0.5.0 in /usr/local/lib/python3.6/dist-packages (from msrest>=0.5.0->azure-cognitiveservices-search-imagesearch) (1.3.0)\n",
            "Requirement already satisfied: adal<2.0.0,>=0.6.0 in /usr/local/lib/python3.6/dist-packages (from msrestazure<2.0.0,>=0.4.32->azure-cognitiveservices-search-imagesearch) (1.2.6)\n",
            "Requirement already satisfied: six in /usr/local/lib/python3.6/dist-packages (from msrestazure<2.0.0,>=0.4.32->azure-cognitiveservices-search-imagesearch) (1.15.0)\n",
            "Requirement already satisfied: urllib3!=1.25.0,!=1.25.1,<1.26,>=1.21.1 in /usr/local/lib/python3.6/dist-packages (from requests~=2.16->msrest>=0.5.0->azure-cognitiveservices-search-imagesearch) (1.24.3)\n",
            "Requirement already satisfied: idna<3,>=2.5 in /usr/local/lib/python3.6/dist-packages (from requests~=2.16->msrest>=0.5.0->azure-cognitiveservices-search-imagesearch) (2.10)\n",
            "Requirement already satisfied: chardet<4,>=3.0.2 in /usr/local/lib/python3.6/dist-packages (from requests~=2.16->msrest>=0.5.0->azure-cognitiveservices-search-imagesearch) (3.0.4)\n",
            "Requirement already satisfied: oauthlib>=3.0.0 in /usr/local/lib/python3.6/dist-packages (from requests-oauthlib>=0.5.0->msrest>=0.5.0->azure-cognitiveservices-search-imagesearch) (3.1.0)\n",
            "Requirement already satisfied: PyJWT<3,>=1.0.0 in /usr/local/lib/python3.6/dist-packages (from adal<2.0.0,>=0.6.0->msrestazure<2.0.0,>=0.4.32->azure-cognitiveservices-search-imagesearch) (2.0.1)\n",
            "Requirement already satisfied: python-dateutil<3,>=2.1.0 in /usr/local/lib/python3.6/dist-packages (from adal<2.0.0,>=0.6.0->msrestazure<2.0.0,>=0.4.32->azure-cognitiveservices-search-imagesearch) (2.8.1)\n",
            "Requirement already satisfied: cryptography>=1.1.0 in /usr/local/lib/python3.6/dist-packages (from adal<2.0.0,>=0.6.0->msrestazure<2.0.0,>=0.4.32->azure-cognitiveservices-search-imagesearch) (3.3.1)\n",
            "Requirement already satisfied: cffi>=1.12 in /usr/local/lib/python3.6/dist-packages (from cryptography>=1.1.0->adal<2.0.0,>=0.6.0->msrestazure<2.0.0,>=0.4.32->azure-cognitiveservices-search-imagesearch) (1.14.4)\n",
            "Requirement already satisfied: pycparser in /usr/local/lib/python3.6/dist-packages (from cffi>=1.12->cryptography>=1.1.0->adal<2.0.0,>=0.6.0->msrestazure<2.0.0,>=0.4.32->azure-cognitiveservices-search-imagesearch) (2.20)\n"
          ],
          "name": "stdout"
        }
      ]
    },
    {
      "cell_type": "code",
      "metadata": {
        "colab": {
          "base_uri": "https://localhost:8080/"
        },
        "id": "v-nzuM5JXiA8",
        "outputId": "ad8fb4bc-12ea-495d-9330-ea3798ffebf5"
      },
      "source": [
        "from google.colab import drive\r\n",
        "drive.mount('/content/drive')"
      ],
      "execution_count": 11,
      "outputs": [
        {
          "output_type": "stream",
          "text": [
            "Drive already mounted at /content/drive; to attempt to forcibly remount, call drive.mount(\"/content/drive\", force_remount=True).\n"
          ],
          "name": "stdout"
        }
      ]
    },
    {
      "cell_type": "code",
      "metadata": {
        "id": "SRO-5oSLXw2l"
      },
      "source": [
        "import os\r\n",
        "key = os.environ.get('AZURE_SEARCH_KEY', '247913cdccbc48b0bb68b6a2d468e973')\r\n",
        "\r\n",
        "#이미지 다운로드\r\n",
        "'''\r\n",
        "category = 'clap','yawn','nod'\r\n",
        "path = Path('/content/drive/MyDrive/peoplespace_dataset')\r\n",
        "\r\n",
        "\r\n",
        "for i in category:\r\n",
        "    img_urls = search_images_bing_many(key,f'{i}', total_count=800)\r\n",
        "    download_images(f'/content/drive/MyDrive/peoplespace_dataset/{i}', urls=img_urls)\r\n",
        "'''\r\n",
        "\r\n",
        "img_urls = search_images_bing_many(key,'a person clapping', total_count=800)\r\n",
        "download_images(f'/content/drive/MyDrive/peoplespace_dataset/clap', urls=img_urls)\r\n",
        "\r\n",
        "img_urls = search_images_bing_many(key,'a person yawning', total_count=800)\r\n",
        "download_images(f'/content/drive/MyDrive/peoplespace_dataset/yawn', urls=img_urls)\r\n",
        "\r\n",
        "\r\n"
      ],
      "execution_count": 13,
      "outputs": []
    }
  ]
}